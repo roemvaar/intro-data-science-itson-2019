{
 "cells": [
  {
   "cell_type": "markdown",
   "metadata": {},
   "source": [
    "# Interactive application"
   ]
  },
  {
   "cell_type": "code",
   "execution_count": 1,
   "metadata": {},
   "outputs": [
    {
     "name": "stdout",
     "output_type": "stream",
     "text": [
      "Writing state_capitals.py\n"
     ]
    }
   ],
   "source": [
    "%%file state_capitals.py\n",
    "capitals_dict = {\n",
    "'Alabama' : 'Montgomery',\n",
    "'Alaska' : 'Juneau',\n",
    "'Arizona' : 'Phoenix',\n",
    "'Arkansas' : 'Little Rock',\n",
    "'California' : 'Sacramento',\n",
    "'Colorado' : 'Denver',\n",
    "'Connecticut' : 'Hartford',\n",
    "'Delaware' : 'Dover',\n",
    "'Florida' : 'Tallahassee',\n",
    "'Georgia' : 'Atlanta',\n",
    "'Hawaii' : 'Honolulu',\n",
    "'Idaho' : 'Boise',\n",
    "'Illinois' : 'Springfield',\n",
    "'Indiana' : 'Indianapolis',\n",
    "'Iowa' : 'Des Moines',\n",
    "'Kansas' : 'Topeka',\n",
    "'Kentucky' : 'Frankfort',\n",
    "'Louisiana' : 'Baton Rouge',\n",
    "'Maine' : 'Augusta',\n",
    "'Maryland' : 'Annapolis',\n",
    "'Massachusetts' : 'Boston',\n",
    "'Michigan' : 'Lansing',\n",
    "'Minnesota' : 'Saint Paul',\n",
    "'Mississippi' : 'Jackson',\n",
    "'Missouri' : 'Jefferson City',\n",
    "'Montana' : 'Helena',\n",
    "'Nebraska' : 'Lincoln',\n",
    "'Nevada' : 'Carson City',\n",
    "'New Hampshire' : 'Concord',\n",
    "'New Jersey' : 'Trenton',\n",
    "'New Mexico' : 'Santa Fe',\n",
    "'New York' : 'Albany',\n",
    "'North Carolina' : 'Raleigh',\n",
    "'North Dakota' : 'Bismarck',\n",
    "'Ohio' : 'Columbus',\n",
    "'Oklahoma' : 'Oklahoma City',\n",
    "'Oregon' : 'Salem',\n",
    "'Pennsylvania' : 'Harrisburg',\n",
    "'Rhode Island' : 'Providence',\n",
    "'South Carolina' : 'Columbia',\n",
    "'South Dakota' : 'Pierre',\n",
    "'Tennessee' : 'Nashville',\n",
    "'Texas' : 'Austin',\n",
    "'Utah' : 'Salt Lake City',\n",
    "'Vermont' : 'Montpelier',\n",
    "'Virginia' : 'Richmond',\n",
    "'Washington' : 'Olympia',\n",
    "'West Virginia' : 'Charleston',\n",
    "'Wisconsin' : 'Madison',\n",
    "'Wyoming' : 'Cheyenne',\n",
    "}\n",
    "\n",
    "import random\n",
    "\n",
    "while True:\n",
    "    state = random.choice(list(capitals_dict.keys()))\n",
    "    capital = capitals_dict[state]\n",
    "    capital_guess = input(\"What is the capital of \" + state + \"? \")\n",
    "    if capital_guess == \"Exit\":\n",
    "        print(\"Goodbye\")\n",
    "        break\n",
    "\n",
    "    if capital_guess == capital:\n",
    "        print(\"Correct! Nice job.\")\n",
    "    else:\n",
    "        print(\"Incorrect. The capital of \" + state + \" is \" + capital + \".\")"
   ]
  },
  {
   "cell_type": "code",
   "execution_count": 2,
   "metadata": {},
   "outputs": [
    {
     "name": "stdout",
     "output_type": "stream",
     "text": [
      "What is the capital of Oregon? Oregon\n",
      "Incorrect. The capital of Oregon is Salem.\n",
      "What is the capital of Maryland? Alabama\n",
      "Incorrect. The capital of Maryland is Annapolis.\n",
      "What is the capital of Texas? austin\n",
      "Incorrect. The capital of Texas is Austin.\n",
      "What is the capital of Oklahoma? Exit\n",
      "Goodbye\n"
     ]
    }
   ],
   "source": [
    "%run state_capitals.py"
   ]
  },
  {
   "cell_type": "code",
   "execution_count": null,
   "metadata": {},
   "outputs": [],
   "source": [
    "\n"
   ]
  }
 ],
 "metadata": {
  "kernelspec": {
   "display_name": "Python 3",
   "language": "python",
   "name": "python3"
  },
  "language_info": {
   "codemirror_mode": {
    "name": "ipython",
    "version": 3
   },
   "file_extension": ".py",
   "mimetype": "text/x-python",
   "name": "python",
   "nbconvert_exporter": "python",
   "pygments_lexer": "ipython3",
   "version": "3.7.2"
  }
 },
 "nbformat": 4,
 "nbformat_minor": 2
}
