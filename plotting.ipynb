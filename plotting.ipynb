{
 "cells": [
  {
   "cell_type": "markdown",
   "metadata": {},
   "source": [
    "# Plotting"
   ]
  },
  {
   "cell_type": "code",
   "execution_count": 4,
   "metadata": {},
   "outputs": [],
   "source": [
    "import pandas as pd\n",
    "import scipy as sp\n",
    "import pandas as pd\n",
    "import matplotlib as mpl\n",
    "%matplotlib inline"
   ]
  },
  {
   "cell_type": "code",
   "execution_count": 5,
   "metadata": {},
   "outputs": [],
   "source": [
    "df = pd.read_csv('vacaciones.csv')"
   ]
  },
  {
   "cell_type": "code",
   "execution_count": 6,
   "metadata": {},
   "outputs": [
    {
     "data": {
      "text/html": [
       "<div>\n",
       "<style scoped>\n",
       "    .dataframe tbody tr th:only-of-type {\n",
       "        vertical-align: middle;\n",
       "    }\n",
       "\n",
       "    .dataframe tbody tr th {\n",
       "        vertical-align: top;\n",
       "    }\n",
       "\n",
       "    .dataframe thead th {\n",
       "        text-align: right;\n",
       "    }\n",
       "</style>\n",
       "<table border=\"1\" class=\"dataframe\">\n",
       "  <thead>\n",
       "    <tr style=\"text-align: right;\">\n",
       "      <th></th>\n",
       "      <th>semana</th>\n",
       "      <th>vacaciones</th>\n",
       "      <th>playa</th>\n",
       "    </tr>\n",
       "  </thead>\n",
       "  <tbody>\n",
       "    <tr>\n",
       "      <th>0</th>\n",
       "      <td>16/02/2014</td>\n",
       "      <td>7</td>\n",
       "      <td>36</td>\n",
       "    </tr>\n",
       "    <tr>\n",
       "      <th>1</th>\n",
       "      <td>23/02/2014</td>\n",
       "      <td>6</td>\n",
       "      <td>36</td>\n",
       "    </tr>\n",
       "    <tr>\n",
       "      <th>2</th>\n",
       "      <td>02/03/2014</td>\n",
       "      <td>8</td>\n",
       "      <td>39</td>\n",
       "    </tr>\n",
       "    <tr>\n",
       "      <th>3</th>\n",
       "      <td>09/03/2014</td>\n",
       "      <td>8</td>\n",
       "      <td>43</td>\n",
       "    </tr>\n",
       "    <tr>\n",
       "      <th>4</th>\n",
       "      <td>16/03/2014</td>\n",
       "      <td>8</td>\n",
       "      <td>42</td>\n",
       "    </tr>\n",
       "  </tbody>\n",
       "</table>\n",
       "</div>"
      ],
      "text/plain": [
       "       semana  vacaciones  playa\n",
       "0  16/02/2014           7     36\n",
       "1  23/02/2014           6     36\n",
       "2  02/03/2014           8     39\n",
       "3  09/03/2014           8     43\n",
       "4  16/03/2014           8     42"
      ]
     },
     "execution_count": 6,
     "metadata": {},
     "output_type": "execute_result"
    }
   ],
   "source": [
    "df.head()"
   ]
  },
  {
   "cell_type": "code",
   "execution_count": 7,
   "metadata": {},
   "outputs": [
    {
     "data": {
      "text/plain": [
       "0      16/02/2014\n",
       "1      23/02/2014\n",
       "2      02/03/2014\n",
       "3      09/03/2014\n",
       "4      16/03/2014\n",
       "5      23/03/2014\n",
       "6      30/03/2014\n",
       "7      06/04/2014\n",
       "8      13/04/2014\n",
       "9      20/04/2014\n",
       "10     27/04/2014\n",
       "11     04/05/2014\n",
       "12     11/05/2014\n",
       "13     18/05/2014\n",
       "14     25/05/2014\n",
       "15     01/06/2014\n",
       "16     08/06/2014\n",
       "17     15/06/2014\n",
       "18     22/06/2014\n",
       "19     29/06/2014\n",
       "20     06/07/2014\n",
       "21     13/07/2014\n",
       "22     20/07/2014\n",
       "23     27/07/2014\n",
       "24     03/08/2014\n",
       "25     10/08/2014\n",
       "26     17/08/2014\n",
       "27     24/08/2014\n",
       "28     31/08/2014\n",
       "29     07/09/2014\n",
       "          ...    \n",
       "231    22/07/2018\n",
       "232    29/07/2018\n",
       "233    05/08/2018\n",
       "234    12/08/2018\n",
       "235    19/08/2018\n",
       "236    26/08/2018\n",
       "237    02/09/2018\n",
       "238    09/09/2018\n",
       "239    16/09/2018\n",
       "240    23/09/2018\n",
       "241    30/09/2018\n",
       "242    07/10/2018\n",
       "243    14/10/2018\n",
       "244    21/10/2018\n",
       "245    28/10/2018\n",
       "246    04/11/2018\n",
       "247    11/11/2018\n",
       "248    18/11/2018\n",
       "249    25/11/2018\n",
       "250    02/12/2018\n",
       "251    09/12/2018\n",
       "252    16/12/2018\n",
       "253    23/12/2018\n",
       "254    30/12/2018\n",
       "255    06/01/2019\n",
       "256    13/01/2019\n",
       "257    20/01/2019\n",
       "258    27/01/2019\n",
       "259    03/02/2019\n",
       "260    10/02/2019\n",
       "Name: semana, Length: 261, dtype: object"
      ]
     },
     "execution_count": 7,
     "metadata": {},
     "output_type": "execute_result"
    }
   ],
   "source": [
    "df['semana']"
   ]
  },
  {
   "cell_type": "code",
   "execution_count": null,
   "metadata": {},
   "outputs": [],
   "source": [
    "df['semana'].dtype"
   ]
  }
 ],
 "metadata": {
  "kernelspec": {
   "display_name": "Python 3",
   "language": "python",
   "name": "python3"
  },
  "language_info": {
   "codemirror_mode": {
    "name": "ipython",
    "version": 3
   },
   "file_extension": ".py",
   "mimetype": "text/x-python",
   "name": "python",
   "nbconvert_exporter": "python",
   "pygments_lexer": "ipython3",
   "version": "3.7.2"
  }
 },
 "nbformat": 4,
 "nbformat_minor": 2
}
